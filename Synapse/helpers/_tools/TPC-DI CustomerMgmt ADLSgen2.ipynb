{
 "cells": [
  {
   "cell_type": "markdown",
   "source": [
    "# Statistics\n",
    "\n",
    "| SF | Duration |\n",
    "| ----------- | ----------- |\n",
    "| 10 | 00:00:32 |\n",
    "| 100 | 00:02:18 |\n",
    "| 1,000 | 00:04:00 |\n",
    "| 5,000 | 00:10:54 |\n",
    "| 10,000 | 00:19:20 |"
   ],
   "metadata": {
    "nteract": {
     "transient": {
      "deleting": false
     }
    }
   }
  },
  {
   "cell_type": "markdown",
   "source": [
    "# Setup"
   ],
   "metadata": {
    "nteract": {
     "transient": {
      "deleting": false
     }
    }
   }
  },
  {
   "cell_type": "code",
   "source": [
    "scaleFactor = \"SF1000\"\n",
    "storageAccount = \"synapsemigrationdemoadls\"\n",
    "container = \"tpc-di\"\n",
    "folder = \"Batch1\"\n",
    "fileName = \"CustomerMgmt.xml\"\n",
    "rowTag = \"TPCDI:Action\""
   ],
   "outputs": [
    {
     "output_type": "display_data",
     "data": {
      "application/vnd.livy.statement-meta+json": {
       "spark_pool": "TPCDI",
       "session_id": "8",
       "statement_id": 3,
       "state": "finished",
       "livy_statement_state": "available",
       "queued_time": "2023-07-04T13:20:43.0861062Z",
       "session_start_time": null,
       "execution_start_time": "2023-07-04T13:23:22.2393317Z",
       "execution_finish_time": "2023-07-04T13:23:22.4880526Z",
       "spark_jobs": null,
       "parent_msg_id": "09c24b52-fb4e-4afd-a623-b3502b0e4099"
      },
      "text/plain": "StatementMeta(TPCDI, 8, 3, Finished, Available)"
     },
     "metadata": {}
    }
   ],
   "execution_count": 57,
   "metadata": {
    "jupyter": {
     "source_hidden": false,
     "outputs_hidden": false
    },
    "nteract": {
     "transient": {
      "deleting": false
     }
    }
   }
  },
  {
   "cell_type": "code",
   "source": [
    "filePath = f\"abfss://{container}@{storageAccount}.dfs.core.windows.net/{scaleFactor}/{folder}/{fileName}\"\n",
    "tempPath = f\"abfss://{container}@{storageAccount}.dfs.core.windows.net/temp\""
   ],
   "outputs": [
    {
     "output_type": "display_data",
     "data": {
      "application/vnd.livy.statement-meta+json": {
       "spark_pool": "TPCDI",
       "session_id": "8",
       "statement_id": 4,
       "state": "finished",
       "livy_statement_state": "available",
       "queued_time": "2023-07-04T13:20:43.6961391Z",
       "session_start_time": null,
       "execution_start_time": "2023-07-04T13:23:22.7235022Z",
       "execution_finish_time": "2023-07-04T13:23:22.9089365Z",
       "spark_jobs": null,
       "parent_msg_id": "83ad018f-728b-4059-9fe6-52278fca9ab9"
      },
      "text/plain": "StatementMeta(TPCDI, 8, 4, Finished, Available)"
     },
     "metadata": {}
    }
   ],
   "execution_count": 58,
   "metadata": {
    "jupyter": {
     "source_hidden": false,
     "outputs_hidden": false
    },
    "nteract": {
     "transient": {
      "deleting": false
     }
    }
   }
  },
  {
   "cell_type": "markdown",
   "source": [
    "# Read the XML file and create a temp view on the raw data as all string values"
   ],
   "metadata": {
    "nteract": {
     "transient": {
      "deleting": false
     }
    }
   }
  },
  {
   "cell_type": "code",
   "source": [
    "spark.read.format(\"com.databricks.spark.xml\").options(\n",
    "    rowTag=rowTag, inferSchema=False\n",
    ").load(filePath).createOrReplaceTempView(\"v_CustomerMgmt\")"
   ],
   "outputs": [
    {
     "output_type": "display_data",
     "data": {
      "application/vnd.livy.statement-meta+json": {
       "spark_pool": "TPCDI",
       "session_id": "8",
       "statement_id": 5,
       "state": "finished",
       "livy_statement_state": "available",
       "queued_time": "2023-07-04T13:21:14.3532331Z",
       "session_start_time": null,
       "execution_start_time": "2023-07-04T13:23:23.1357919Z",
       "execution_finish_time": "2023-07-04T13:24:53.8301151Z",
       "spark_jobs": null,
       "parent_msg_id": "3cd7531d-c05b-4199-8b08-9491de9b6cb3"
      },
      "text/plain": "StatementMeta(TPCDI, 8, 5, Finished, Available)"
     },
     "metadata": {}
    }
   ],
   "execution_count": 59,
   "metadata": {
    "jupyter": {
     "source_hidden": false,
     "outputs_hidden": false
    },
    "nteract": {
     "transient": {
      "deleting": false
     }
    }
   }
  },
  {
   "cell_type": "code",
   "source": [
    "# df = spark.read.format('com.databricks.spark.xml') \\\n",
    "#  .options(rowTag=rowTag, inferSchema=False) \\\n",
    "#  .load(filePath)"
   ],
   "outputs": [
    {
     "output_type": "display_data",
     "data": {
      "application/vnd.livy.statement-meta+json": {
       "spark_pool": "TPCDI",
       "session_id": "7",
       "statement_id": 50,
       "state": "finished",
       "livy_statement_state": "available",
       "queued_time": "2023-07-04T07:42:36.41575Z",
       "session_start_time": null,
       "execution_start_time": "2023-07-04T07:48:53.9116776Z",
       "execution_finish_time": "2023-07-04T07:48:54.1306366Z",
       "spark_jobs": null,
       "parent_msg_id": "158a5a0b-ac84-4fa2-9c2f-19ad03d44f54"
      },
      "text/plain": "StatementMeta(TPCDI, 7, 50, Finished, Available)"
     },
     "metadata": {}
    }
   ],
   "execution_count": 49,
   "metadata": {
    "jupyter": {
     "source_hidden": false,
     "outputs_hidden": false
    },
    "nteract": {
     "transient": {
      "deleting": false
     }
    }
   }
  },
  {
   "cell_type": "code",
   "source": [
    "# display(df)"
   ],
   "outputs": [
    {
     "output_type": "display_data",
     "data": {
      "application/vnd.livy.statement-meta+json": {
       "spark_pool": "TPCDI",
       "session_id": "7",
       "statement_id": 51,
       "state": "finished",
       "livy_statement_state": "available",
       "queued_time": "2023-07-04T07:42:36.4648512Z",
       "session_start_time": null,
       "execution_start_time": "2023-07-04T07:48:54.33142Z",
       "execution_finish_time": "2023-07-04T07:48:54.5145442Z",
       "spark_jobs": null,
       "parent_msg_id": "482bba7d-e459-47ab-adc1-18320705b1be"
      },
      "text/plain": "StatementMeta(TPCDI, 7, 51, Finished, Available)"
     },
     "metadata": {}
    }
   ],
   "execution_count": 50,
   "metadata": {
    "jupyter": {
     "source_hidden": false,
     "outputs_hidden": false
    },
    "nteract": {
     "transient": {
      "deleting": false
     }
    },
    "collapsed": false
   }
  },
  {
   "cell_type": "markdown",
   "source": [
    "# Now insert into CustomerMgmt table with nested values parsed and data types applied"
   ],
   "metadata": {
    "nteract": {
     "transient": {
      "deleting": false
     }
    }
   }
  },
  {
   "cell_type": "code",
   "source": [
    "df = spark.sql(\n",
    "    f\"\"\"\n",
    "  SELECT \n",
    "    cast(Customer._C_ID as BIGINT) customerid, \n",
    "    cast(Customer.Account._CA_ID as BIGINT) accountid,\n",
    "    cast(Customer.Account.CA_B_ID as BIGINT) brokerid, \n",
    "    nullif(Customer._C_TAX_ID, '') taxid,\n",
    "    nullif(Customer.Account.CA_NAME, '') accountdesc, \n",
    "    --cast(Customer.Account._CA_TAX_ST as TINYINT) taxstatus,\n",
    "    cast(Customer.Account._CA_TAX_ST as INT) taxstatus,\n",
    "    decode(_ActionType,\n",
    "      \"NEW\",\"Active\",\n",
    "      \"ADDACCT\",\"Active\",\n",
    "      \"UPDACCT\",\"Active\",\n",
    "      \"UPDCUST\",\"Active\",\n",
    "      \"CLOSEACCT\",\"Inactive\",\n",
    "      \"INACT\",\"Inactive\") status,\n",
    "    nullif(Customer.Name.C_L_NAME, '') lastname, \n",
    "    nullif(Customer.Name.C_F_NAME, '') firstname, \n",
    "    nullif(Customer.Name.C_M_NAME, '') middleinitial, \n",
    "    nullif(upper(Customer._C_GNDR), '') gender,\n",
    "    --cast(Customer._C_TIER as TINYINT) tier, \n",
    "    cast(Customer._C_TIER as INT) tier, \n",
    "    cast(Customer._C_DOB as DATE) dob,\n",
    "    --cast(Customer._C_DOB as TIMESTAMP) dob,\n",
    "    nullif(Customer.Address.C_ADLINE1, '') addressline1, \n",
    "    nullif(Customer.Address.C_ADLINE2, '') addressline2, \n",
    "    nullif(Customer.Address.C_ZIPCODE, '') postalcode,\n",
    "    nullif(Customer.Address.C_CITY, '') city, \n",
    "    nullif(Customer.Address.C_STATE_PROV, '') stateprov,\n",
    "    nullif(Customer.Address.C_CTRY, '') country, \n",
    "    nvl2(\n",
    "      nullif(Customer.ContactInfo.C_PHONE_1.C_LOCAL, ''),\n",
    "      concat(\n",
    "          nvl2(nullif(Customer.ContactInfo.C_PHONE_1.C_CTRY_CODE, ''), '+' || Customer.ContactInfo.C_PHONE_1.C_CTRY_CODE || ' ', ''),\n",
    "          nvl2(nullif(Customer.ContactInfo.C_PHONE_1.C_AREA_CODE, ''), '(' || Customer.ContactInfo.C_PHONE_1.C_AREA_CODE || ') ', ''),\n",
    "          Customer.ContactInfo.C_PHONE_1.C_LOCAL,\n",
    "          nvl(Customer.ContactInfo.C_PHONE_1.C_EXT, '')),\n",
    "      cast(null as string)) phone1,\n",
    "    nvl2(\n",
    "      nullif(Customer.ContactInfo.C_PHONE_2.C_LOCAL, ''),\n",
    "      concat(\n",
    "          nvl2(nullif(Customer.ContactInfo.C_PHONE_2.C_CTRY_CODE, ''), '+' || Customer.ContactInfo.C_PHONE_2.C_CTRY_CODE || ' ', ''),\n",
    "          nvl2(nullif(Customer.ContactInfo.C_PHONE_2.C_AREA_CODE, ''), '(' || Customer.ContactInfo.C_PHONE_2.C_AREA_CODE || ') ', ''),\n",
    "          Customer.ContactInfo.C_PHONE_2.C_LOCAL,\n",
    "          nvl(Customer.ContactInfo.C_PHONE_2.C_EXT, '')),\n",
    "      cast(null as string)) phone2,\n",
    "    nvl2(\n",
    "      nullif(Customer.ContactInfo.C_PHONE_3.C_LOCAL, ''),\n",
    "      concat(\n",
    "          nvl2(nullif(Customer.ContactInfo.C_PHONE_3.C_CTRY_CODE, ''), '+' || Customer.ContactInfo.C_PHONE_3.C_CTRY_CODE || ' ', ''),\n",
    "          nvl2(nullif(Customer.ContactInfo.C_PHONE_3.C_AREA_CODE, ''), '(' || Customer.ContactInfo.C_PHONE_3.C_AREA_CODE || ') ', ''),\n",
    "          Customer.ContactInfo.C_PHONE_3.C_LOCAL,\n",
    "          nvl(Customer.ContactInfo.C_PHONE_3.C_EXT, '')),\n",
    "      cast(null as string)) phone3,\n",
    "    nullif(Customer.ContactInfo.C_PRIM_EMAIL, '') email1,\n",
    "    nullif(Customer.ContactInfo.C_ALT_EMAIL, '') email2,\n",
    "    nullif(Customer.TaxInfo.C_LCL_TX_ID, '') lcl_tx_id, \n",
    "    nullif(Customer.TaxInfo.C_NAT_TX_ID, '') nat_tx_id, \n",
    "    to_timestamp(_ActionTS) update_ts,\n",
    "    _ActionType ActionType\n",
    "  FROM v_CustomerMgmt\n",
    "\"\"\"\n",
    ")"
   ],
   "outputs": [
    {
     "output_type": "display_data",
     "data": {
      "application/vnd.livy.statement-meta+json": {
       "spark_pool": "TPCDI",
       "session_id": "8",
       "statement_id": 6,
       "state": "finished",
       "livy_statement_state": "available",
       "queued_time": "2023-07-04T13:23:11.8128562Z",
       "session_start_time": null,
       "execution_start_time": "2023-07-04T13:24:54.0414525Z",
       "execution_finish_time": "2023-07-04T13:24:54.6258385Z",
       "spark_jobs": null,
       "parent_msg_id": "35c2aa92-075f-4b88-bc9b-cec6b944d821"
      },
      "text/plain": "StatementMeta(TPCDI, 8, 6, Finished, Available)"
     },
     "metadata": {}
    }
   ],
   "execution_count": 60,
   "metadata": {
    "jupyter": {
     "source_hidden": false,
     "outputs_hidden": false
    },
    "nteract": {
     "transient": {
      "deleting": false
     }
    }
   }
  },
  {
   "cell_type": "code",
   "source": [
    "# display(df)"
   ],
   "outputs": [
    {
     "output_type": "display_data",
     "data": {
      "application/vnd.livy.statement-meta+json": {
       "spark_pool": "TPCDI",
       "session_id": "7",
       "statement_id": 53,
       "state": "finished",
       "livy_statement_state": "available",
       "queued_time": "2023-07-04T07:42:36.6793524Z",
       "session_start_time": null,
       "execution_start_time": "2023-07-04T07:48:55.1194791Z",
       "execution_finish_time": "2023-07-04T07:48:55.2976138Z",
       "spark_jobs": null,
       "parent_msg_id": "c33a1877-954c-4893-a0fc-ebadf9705aa4"
      },
      "text/plain": "StatementMeta(TPCDI, 7, 53, Finished, Available)"
     },
     "metadata": {}
    }
   ],
   "execution_count": 52,
   "metadata": {
    "jupyter": {
     "source_hidden": false,
     "outputs_hidden": false
    },
    "nteract": {
     "transient": {
      "deleting": false
     }
    },
    "collapsed": false
   }
  },
  {
   "cell_type": "code",
   "source": [
    "# from pyspark.sql.functions import col, length, max\n",
    "\n",
    "# df_test=df.select([max(length(col(name))).alias(name) for name in df.schema.names])\n",
    "# display(df_test)"
   ],
   "outputs": [
    {
     "output_type": "display_data",
     "data": {
      "application/vnd.livy.statement-meta+json": {
       "spark_pool": "TPCDI",
       "session_id": "8",
       "statement_id": 7,
       "state": "finished",
       "livy_statement_state": "available",
       "queued_time": "2023-07-04T13:23:24.1281895Z",
       "session_start_time": null,
       "execution_start_time": "2023-07-04T13:24:54.8289807Z",
       "execution_finish_time": "2023-07-04T13:27:30.4614303Z",
       "spark_jobs": null,
       "parent_msg_id": "87976f75-8c4b-4382-945a-e988fed0a162"
      },
      "text/plain": "StatementMeta(TPCDI, 8, 7, Finished, Available)"
     },
     "metadata": {}
    },
    {
     "output_type": "display_data",
     "data": {
      "application/vnd.synapse.widget-view+json": {
       "widget_id": "5a536f46-8b2f-462b-b447-8fce00d3394b",
       "widget_type": "Synapse.DataFrame"
      },
      "text/plain": "SynapseWidget(Synapse.DataFrame, 5a536f46-8b2f-462b-b447-8fce00d3394b)"
     },
     "metadata": {}
    }
   ],
   "execution_count": 61,
   "metadata": {
    "jupyter": {
     "source_hidden": false,
     "outputs_hidden": false
    },
    "nteract": {
     "transient": {
      "deleting": false
     }
    },
    "collapsed": false
   }
  },
  {
   "cell_type": "markdown",
   "source": [
    "%%sql\n",
    "select * from v_CustomerMgmt\n",
    "where length(Customer.ContactInfo.C_ALT_EMAIL)=51\n",
    "--max(length(Customer.ContactInfo.C_ALT_EMAIL))"
   ],
   "metadata": {
    "nteract": {
     "transient": {
      "deleting": false
     }
    }
   }
  },
  {
   "cell_type": "code",
   "source": [
    "df.printSchema()"
   ],
   "outputs": [
    {
     "output_type": "display_data",
     "data": {
      "application/vnd.livy.statement-meta+json": {
       "spark_pool": "TPCDI",
       "session_id": "7",
       "statement_id": 54,
       "state": "finished",
       "livy_statement_state": "available",
       "queued_time": "2023-07-04T07:42:36.7312223Z",
       "session_start_time": null,
       "execution_start_time": "2023-07-04T07:48:55.5097292Z",
       "execution_finish_time": "2023-07-04T07:48:55.7513269Z",
       "spark_jobs": null,
       "parent_msg_id": "9bb87667-9159-402a-891d-0fd3b67c6227"
      },
      "text/plain": "StatementMeta(TPCDI, 7, 54, Finished, Available)"
     },
     "metadata": {}
    },
    {
     "output_type": "stream",
     "name": "stdout",
     "text": [
      "root\n |-- customerid: long (nullable = true)\n |-- accountid: long (nullable = true)\n |-- brokerid: long (nullable = true)\n |-- taxid: string (nullable = true)\n |-- accountdesc: string (nullable = true)\n |-- taxstatus: integer (nullable = true)\n |-- status: string (nullable = true)\n |-- lastname: string (nullable = true)\n |-- firstname: string (nullable = true)\n |-- middleinitial: string (nullable = true)\n |-- gender: string (nullable = true)\n |-- tier: integer (nullable = true)\n |-- dob: date (nullable = true)\n |-- addressline1: string (nullable = true)\n |-- addressline2: string (nullable = true)\n |-- postalcode: string (nullable = true)\n |-- city: string (nullable = true)\n |-- stateprov: string (nullable = true)\n |-- country: string (nullable = true)\n |-- phone1: string (nullable = true)\n |-- phone2: string (nullable = true)\n |-- phone3: string (nullable = true)\n |-- email1: string (nullable = true)\n |-- email2: string (nullable = true)\n |-- lcl_tx_id: string (nullable = true)\n |-- nat_tx_id: string (nullable = true)\n |-- update_ts: timestamp (nullable = true)\n |-- ActionType: string (nullable = true)\n\n"
     ]
    }
   ],
   "execution_count": 53,
   "metadata": {
    "jupyter": {
     "source_hidden": false,
     "outputs_hidden": false
    },
    "nteract": {
     "transient": {
      "deleting": false
     }
    }
   }
  },
  {
   "cell_type": "markdown",
   "source": [
    "# Save to ADLSgen2"
   ],
   "metadata": {
    "nteract": {
     "transient": {
      "deleting": false
     }
    }
   }
  },
  {
   "cell_type": "code",
   "source": [
    "export_path = f\"abfss://{container}@{storageAccount}.dfs.core.windows.net/{scaleFactor}/Batch1/CustomerMgmt\"\n",
    "print(\"export file path: \" + export_path)"
   ],
   "outputs": [
    {
     "output_type": "display_data",
     "data": {
      "application/vnd.livy.statement-meta+json": {
       "spark_pool": "TPCDI",
       "session_id": "7",
       "statement_id": 55,
       "state": "finished",
       "livy_statement_state": "available",
       "queued_time": "2023-07-04T07:42:36.8648691Z",
       "session_start_time": null,
       "execution_start_time": "2023-07-04T07:48:55.9759032Z",
       "execution_finish_time": "2023-07-04T07:48:56.1742529Z",
       "spark_jobs": null,
       "parent_msg_id": "2d81c555-08be-4fe7-af90-efb4122c412e"
      },
      "text/plain": "StatementMeta(TPCDI, 7, 55, Finished, Available)"
     },
     "metadata": {}
    },
    {
     "output_type": "stream",
     "name": "stdout",
     "text": [
      "export file path: abfss://tpc-di@synapsemigrationdemoadls.dfs.core.windows.net/SF10000/Batch1/CustomerMgmt\n"
     ]
    }
   ],
   "execution_count": 54,
   "metadata": {
    "jupyter": {
     "source_hidden": false,
     "outputs_hidden": false
    },
    "nteract": {
     "transient": {
      "deleting": false
     }
    }
   }
  },
  {
   "cell_type": "code",
   "source": [
    "# df.write.parquet(export_path, mode = 'overwrite')\n",
    "df.write.options(\n",
    "    header=\"false\",\n",
    "    delimiter=\"|\",\n",
    "    dateFormat=\"yyyy-MM-dd\",\n",
    "    timestampFormat=\"yyyy-MM-dd HH:mm:ss\",\n",
    ").mode(\"overwrite\").csv(export_path)"
   ],
   "outputs": [
    {
     "output_type": "display_data",
     "data": {
      "application/vnd.livy.statement-meta+json": {
       "spark_pool": "TPCDI",
       "session_id": "7",
       "statement_id": 56,
       "state": "finished",
       "livy_statement_state": "available",
       "queued_time": "2023-07-04T07:42:36.9355102Z",
       "session_start_time": null,
       "execution_start_time": "2023-07-04T07:48:56.3823753Z",
       "execution_finish_time": "2023-07-04T08:02:22.2890545Z",
       "spark_jobs": null,
       "parent_msg_id": "1dd81a89-cef3-4a44-9da1-213156f8a4c4"
      },
      "text/plain": "StatementMeta(TPCDI, 7, 56, Finished, Available)"
     },
     "metadata": {}
    }
   ],
   "execution_count": 55,
   "metadata": {
    "jupyter": {
     "source_hidden": false,
     "outputs_hidden": false
    },
    "nteract": {
     "transient": {
      "deleting": false
     }
    }
   }
  }
 ],
 "metadata": {
  "kernelspec": {
   "name": "synapse_pyspark",
   "display_name": "Synapse PySpark"
  },
  "language_info": {
   "name": "python"
  },
  "description": null,
  "save_output": true,
  "synapse_widget": {
   "version": "0.1",
   "state": {
    "5a536f46-8b2f-462b-b447-8fce00d3394b": {
     "type": "Synapse.DataFrame",
     "sync_state": {
      "table": {
       "rows": [
        {
         "0": "7",
         "1": "7",
         "2": "7",
         "3": "11",
         "4": "50",
         "5": "1",
         "6": "8",
         "7": "17",
         "8": "15",
         "9": "1",
         "10": "1",
         "11": "1",
         "12": "10",
         "13": "31",
         "14": "9",
         "15": "7",
         "16": "16",
         "17": "20",
         "18": "24",
         "19": "22",
         "20": "22",
         "21": "22",
         "22": "50",
         "23": "51",
         "24": "4",
         "25": "4",
         "26": "19",
         "27": "9"
        }
       ],
       "schema": [
        {
         "key": "0",
         "name": "customerid",
         "type": "int"
        },
        {
         "key": "1",
         "name": "accountid",
         "type": "int"
        },
        {
         "key": "2",
         "name": "brokerid",
         "type": "int"
        },
        {
         "key": "3",
         "name": "taxid",
         "type": "int"
        },
        {
         "key": "4",
         "name": "accountdesc",
         "type": "int"
        },
        {
         "key": "5",
         "name": "taxstatus",
         "type": "int"
        },
        {
         "key": "6",
         "name": "status",
         "type": "int"
        },
        {
         "key": "7",
         "name": "lastname",
         "type": "int"
        },
        {
         "key": "8",
         "name": "firstname",
         "type": "int"
        },
        {
         "key": "9",
         "name": "middleinitial",
         "type": "int"
        },
        {
         "key": "10",
         "name": "gender",
         "type": "int"
        },
        {
         "key": "11",
         "name": "tier",
         "type": "int"
        },
        {
         "key": "12",
         "name": "dob",
         "type": "int"
        },
        {
         "key": "13",
         "name": "addressline1",
         "type": "int"
        },
        {
         "key": "14",
         "name": "addressline2",
         "type": "int"
        },
        {
         "key": "15",
         "name": "postalcode",
         "type": "int"
        },
        {
         "key": "16",
         "name": "city",
         "type": "int"
        },
        {
         "key": "17",
         "name": "stateprov",
         "type": "int"
        },
        {
         "key": "18",
         "name": "country",
         "type": "int"
        },
        {
         "key": "19",
         "name": "phone1",
         "type": "int"
        },
        {
         "key": "20",
         "name": "phone2",
         "type": "int"
        },
        {
         "key": "21",
         "name": "phone3",
         "type": "int"
        },
        {
         "key": "22",
         "name": "email1",
         "type": "int"
        },
        {
         "key": "23",
         "name": "email2",
         "type": "int"
        },
        {
         "key": "24",
         "name": "lcl_tx_id",
         "type": "int"
        },
        {
         "key": "25",
         "name": "nat_tx_id",
         "type": "int"
        },
        {
         "key": "26",
         "name": "update_ts",
         "type": "int"
        },
        {
         "key": "27",
         "name": "ActionType",
         "type": "int"
        }
       ],
       "truncated": false
      },
      "isSummary": false,
      "language": "scala"
     },
     "persist_state": {
      "view": {
       "type": "details",
       "tableOptions": {},
       "chartOptions": {
        "chartType": "bar",
        "aggregationType": "sum",
        "categoryFieldKeys": [
         "1"
        ],
        "seriesFieldKeys": [
         "0"
        ],
        "isStacked": false
       }
      }
     }
    }
   }
  }
 },
 "nbformat": 4,
 "nbformat_minor": 2
}